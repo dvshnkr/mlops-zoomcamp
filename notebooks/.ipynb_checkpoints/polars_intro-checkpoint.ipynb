{
 "cells": [
  {
   "cell_type": "code",
   "execution_count": 1,
   "id": "7c3362d7",
   "metadata": {},
   "outputs": [
    {
     "name": "stdout",
     "output_type": "stream",
     "text": [
      "Python 3.9.16\n"
     ]
    }
   ],
   "source": [
    "!python --version\n"
   ]
  },
  {
   "cell_type": "code",
   "execution_count": 2,
   "id": "63144442",
   "metadata": {},
   "outputs": [],
   "source": [
    "import polars as pl"
   ]
  },
  {
   "cell_type": "code",
   "execution_count": 3,
   "id": "33fb30c8",
   "metadata": {},
   "outputs": [
    {
     "data": {
      "text/html": [
       "<div><style>\n",
       ".dataframe > thead > tr > th,\n",
       ".dataframe > tbody > tr > td {\n",
       "  text-align: right;\n",
       "}\n",
       "</style>\n",
       "<small>shape: (5, 20)</small><table border=\"1\" class=\"dataframe\"><thead><tr><th>VendorID</th><th>lpep_pickup_datetime</th><th>lpep_dropoff_datetime</th><th>store_and_fwd_flag</th><th>RatecodeID</th><th>PULocationID</th><th>DOLocationID</th><th>passenger_count</th><th>trip_distance</th><th>fare_amount</th><th>extra</th><th>mta_tax</th><th>tip_amount</th><th>tolls_amount</th><th>ehail_fee</th><th>improvement_surcharge</th><th>total_amount</th><th>payment_type</th><th>trip_type</th><th>congestion_surcharge</th></tr><tr><td>i64</td><td>datetime[ns]</td><td>datetime[ns]</td><td>str</td><td>f64</td><td>i64</td><td>i64</td><td>f64</td><td>f64</td><td>f64</td><td>f64</td><td>f64</td><td>f64</td><td>f64</td><td>null</td><td>f64</td><td>f64</td><td>f64</td><td>f64</td><td>f64</td></tr></thead><tbody><tr><td>2</td><td>2022-01-01 00:14:21</td><td>2022-01-01 00:15:33</td><td>&quot;N&quot;</td><td>1.0</td><td>42</td><td>42</td><td>1.0</td><td>0.44</td><td>3.5</td><td>0.5</td><td>0.5</td><td>0.0</td><td>0.0</td><td>null</td><td>0.3</td><td>4.8</td><td>2.0</td><td>1.0</td><td>0.0</td></tr><tr><td>1</td><td>2022-01-01 00:20:55</td><td>2022-01-01 00:29:38</td><td>&quot;N&quot;</td><td>1.0</td><td>116</td><td>41</td><td>1.0</td><td>2.1</td><td>9.5</td><td>0.5</td><td>0.5</td><td>0.0</td><td>0.0</td><td>null</td><td>0.3</td><td>10.8</td><td>2.0</td><td>1.0</td><td>0.0</td></tr><tr><td>1</td><td>2022-01-01 00:57:02</td><td>2022-01-01 01:13:14</td><td>&quot;N&quot;</td><td>1.0</td><td>41</td><td>140</td><td>1.0</td><td>3.7</td><td>14.5</td><td>3.25</td><td>0.5</td><td>4.6</td><td>0.0</td><td>null</td><td>0.3</td><td>23.15</td><td>1.0</td><td>1.0</td><td>2.75</td></tr><tr><td>2</td><td>2022-01-01 00:07:42</td><td>2022-01-01 00:15:57</td><td>&quot;N&quot;</td><td>1.0</td><td>181</td><td>181</td><td>1.0</td><td>1.69</td><td>8.0</td><td>0.5</td><td>0.5</td><td>0.0</td><td>0.0</td><td>null</td><td>0.3</td><td>9.3</td><td>2.0</td><td>1.0</td><td>0.0</td></tr><tr><td>2</td><td>2022-01-01 00:07:50</td><td>2022-01-01 00:28:52</td><td>&quot;N&quot;</td><td>1.0</td><td>33</td><td>170</td><td>1.0</td><td>6.26</td><td>22.0</td><td>0.5</td><td>0.5</td><td>5.21</td><td>0.0</td><td>null</td><td>0.3</td><td>31.26</td><td>1.0</td><td>1.0</td><td>2.75</td></tr></tbody></table></div>"
      ],
      "text/plain": [
       "shape: (5, 20)\n",
       "┌──────────┬──────────────────┬──────────────────┬──────────────────┬───┬──────────────┬──────────────┬───────────┬─────────────────┐\n",
       "│ VendorID ┆ lpep_pickup_date ┆ lpep_dropoff_dat ┆ store_and_fwd_fl ┆ … ┆ total_amount ┆ payment_type ┆ trip_type ┆ congestion_surc │\n",
       "│ ---      ┆ time             ┆ etime            ┆ ag               ┆   ┆ ---          ┆ ---          ┆ ---       ┆ harge           │\n",
       "│ i64      ┆ ---              ┆ ---              ┆ ---              ┆   ┆ f64          ┆ f64          ┆ f64       ┆ ---             │\n",
       "│          ┆ datetime[ns]     ┆ datetime[ns]     ┆ str              ┆   ┆              ┆              ┆           ┆ f64             │\n",
       "╞══════════╪══════════════════╪══════════════════╪══════════════════╪═══╪══════════════╪══════════════╪═══════════╪═════════════════╡\n",
       "│ 2        ┆ 2022-01-01       ┆ 2022-01-01       ┆ N                ┆ … ┆ 4.8          ┆ 2.0          ┆ 1.0       ┆ 0.0             │\n",
       "│          ┆ 00:14:21         ┆ 00:15:33         ┆                  ┆   ┆              ┆              ┆           ┆                 │\n",
       "│ 1        ┆ 2022-01-01       ┆ 2022-01-01       ┆ N                ┆ … ┆ 10.8         ┆ 2.0          ┆ 1.0       ┆ 0.0             │\n",
       "│          ┆ 00:20:55         ┆ 00:29:38         ┆                  ┆   ┆              ┆              ┆           ┆                 │\n",
       "│ 1        ┆ 2022-01-01       ┆ 2022-01-01       ┆ N                ┆ … ┆ 23.15        ┆ 1.0          ┆ 1.0       ┆ 2.75            │\n",
       "│          ┆ 00:57:02         ┆ 01:13:14         ┆                  ┆   ┆              ┆              ┆           ┆                 │\n",
       "│ 2        ┆ 2022-01-01       ┆ 2022-01-01       ┆ N                ┆ … ┆ 9.3          ┆ 2.0          ┆ 1.0       ┆ 0.0             │\n",
       "│          ┆ 00:07:42         ┆ 00:15:57         ┆                  ┆   ┆              ┆              ┆           ┆                 │\n",
       "│ 2        ┆ 2022-01-01       ┆ 2022-01-01       ┆ N                ┆ … ┆ 31.26        ┆ 1.0          ┆ 1.0       ┆ 2.75            │\n",
       "│          ┆ 00:07:50         ┆ 00:28:52         ┆                  ┆   ┆              ┆              ┆           ┆                 │\n",
       "└──────────┴──────────────────┴──────────────────┴──────────────────┴───┴──────────────┴──────────────┴───────────┴─────────────────┘"
      ]
     },
     "execution_count": 3,
     "metadata": {},
     "output_type": "execute_result"
    }
   ],
   "source": [
    "df = pl.read_parquet('./../data/green_tripdata_2022-01.parquet')\n",
    "df.head()"
   ]
  },
  {
   "cell_type": "code",
   "execution_count": null,
   "id": "e3149d4d",
   "metadata": {},
   "outputs": [],
   "source": []
  }
 ],
 "metadata": {
  "kernelspec": {
   "display_name": "Python 3 (ipykernel)",
   "language": "python",
   "name": "python3"
  },
  "language_info": {
   "codemirror_mode": {
    "name": "ipython",
    "version": 3
   },
   "file_extension": ".py",
   "mimetype": "text/x-python",
   "name": "python",
   "nbconvert_exporter": "python",
   "pygments_lexer": "ipython3",
   "version": "3.9.16"
  }
 },
 "nbformat": 4,
 "nbformat_minor": 5
}
