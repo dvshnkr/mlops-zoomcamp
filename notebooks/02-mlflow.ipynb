{
 "cells": [
  {
   "cell_type": "code",
   "execution_count": 1,
   "id": "1ba3f27f",
   "metadata": {},
   "outputs": [],
   "source": [
    "import numpy as np\n",
    "import pandas as pd\n",
    "import matplotlib.pyplot as plt\n",
    "import seaborn as sns\n",
    "import ipynb.fs\n",
    "\n",
    "%matplotlib inline\n",
    "sns.set_theme()"
   ]
  },
  {
   "cell_type": "code",
   "execution_count": 2,
   "id": "166f114f",
   "metadata": {},
   "outputs": [
    {
     "name": "stdout",
     "output_type": "stream",
     "text": [
      "C:\\Users\\devsn\\Desktop\\courses\\MLOps Zoomcamp\n"
     ]
    }
   ],
   "source": [
    "%cd .."
   ]
  },
  {
   "cell_type": "code",
   "execution_count": 3,
   "id": "24daeb22",
   "metadata": {},
   "outputs": [
    {
     "data": {
      "text/plain": [
       "'sqlite:///mlflow.db'"
      ]
     },
     "execution_count": 3,
     "metadata": {},
     "output_type": "execute_result"
    }
   ],
   "source": [
    "import mlflow\n",
    "\n",
    "mlflow.set_tracking_uri(\"sqlite:///mlflow.db\")\n",
    "tracking_uri = mlflow.get_tracking_uri()\n",
    "tracking_uri\n"
   ]
  },
  {
   "cell_type": "code",
   "execution_count": 4,
   "id": "64a67da5",
   "metadata": {},
   "outputs": [
    {
     "name": "stderr",
     "output_type": "stream",
     "text": [
      "2023/07/14 22:51:57 INFO mlflow.store.db.utils: Creating initial MLflow database tables...\n",
      "2023/07/14 22:51:57 INFO mlflow.store.db.utils: Updating database tables\n",
      "INFO  [alembic.runtime.migration] Context impl SQLiteImpl.\n",
      "INFO  [alembic.runtime.migration] Will assume non-transactional DDL.\n",
      "INFO  [alembic.runtime.migration] Context impl SQLiteImpl.\n",
      "INFO  [alembic.runtime.migration] Will assume non-transactional DDL.\n"
     ]
    },
    {
     "data": {
      "text/plain": [
       "<Experiment: artifact_location='file:///C:/Users/devsn/Desktop/courses/MLOps Zoomcamp/mlruns/1', creation_time=1689333964153, experiment_id='1', last_update_time=1689333964153, lifecycle_stage='active', name='nyc-taxi', tags={}>"
      ]
     },
     "execution_count": 4,
     "metadata": {},
     "output_type": "execute_result"
    }
   ],
   "source": [
    "mlflow.set_experiment(\"nyc-taxi\")"
   ]
  },
  {
   "cell_type": "code",
   "execution_count": 5,
   "id": "74b7968d",
   "metadata": {},
   "outputs": [
    {
     "data": {
      "text/plain": [
       "[<Experiment: artifact_location='file:///C:/Users/devsn/Desktop/courses/MLOps Zoomcamp/mlruns/1', creation_time=1689333964153, experiment_id='1', last_update_time=1689333964153, lifecycle_stage='active', name='nyc-taxi', tags={}>,\n",
       " <Experiment: artifact_location='mlflow-artifacts:/0', creation_time=1689326817764, experiment_id='0', last_update_time=1689326817764, lifecycle_stage='active', name='Default', tags={}>]"
      ]
     },
     "execution_count": 5,
     "metadata": {},
     "output_type": "execute_result"
    }
   ],
   "source": [
    "from mlflow import MlflowClient\n",
    "\n",
    "experiment = MlflowClient().search_experiments()\n",
    "experiment"
   ]
  },
  {
   "cell_type": "markdown",
   "id": "3266c8ed",
   "metadata": {},
   "source": [
    "# Data loading and transformation\n"
   ]
  },
  {
   "cell_type": "code",
   "execution_count": 6,
   "id": "4ab815e9",
   "metadata": {},
   "outputs": [
    {
     "data": {
      "text/html": [
       "<div>\n",
       "<style scoped>\n",
       "    .dataframe tbody tr th:only-of-type {\n",
       "        vertical-align: middle;\n",
       "    }\n",
       "\n",
       "    .dataframe tbody tr th {\n",
       "        vertical-align: top;\n",
       "    }\n",
       "\n",
       "    .dataframe thead th {\n",
       "        text-align: right;\n",
       "    }\n",
       "</style>\n",
       "<table border=\"1\" class=\"dataframe\">\n",
       "  <thead>\n",
       "    <tr style=\"text-align: right;\">\n",
       "      <th></th>\n",
       "      <th>VendorID</th>\n",
       "      <th>lpep_pickup_datetime</th>\n",
       "      <th>lpep_dropoff_datetime</th>\n",
       "      <th>store_and_fwd_flag</th>\n",
       "      <th>RatecodeID</th>\n",
       "      <th>PULocationID</th>\n",
       "      <th>DOLocationID</th>\n",
       "      <th>passenger_count</th>\n",
       "      <th>trip_distance</th>\n",
       "      <th>fare_amount</th>\n",
       "      <th>extra</th>\n",
       "      <th>mta_tax</th>\n",
       "      <th>tip_amount</th>\n",
       "      <th>tolls_amount</th>\n",
       "      <th>ehail_fee</th>\n",
       "      <th>improvement_surcharge</th>\n",
       "      <th>total_amount</th>\n",
       "      <th>payment_type</th>\n",
       "      <th>trip_type</th>\n",
       "      <th>congestion_surcharge</th>\n",
       "    </tr>\n",
       "  </thead>\n",
       "  <tbody>\n",
       "    <tr>\n",
       "      <th>0</th>\n",
       "      <td>2</td>\n",
       "      <td>2022-01-01 00:14:21</td>\n",
       "      <td>2022-01-01 00:15:33</td>\n",
       "      <td>N</td>\n",
       "      <td>1.0</td>\n",
       "      <td>42</td>\n",
       "      <td>42</td>\n",
       "      <td>1.0</td>\n",
       "      <td>0.44</td>\n",
       "      <td>3.5</td>\n",
       "      <td>0.50</td>\n",
       "      <td>0.5</td>\n",
       "      <td>0.00</td>\n",
       "      <td>0.0</td>\n",
       "      <td>None</td>\n",
       "      <td>0.3</td>\n",
       "      <td>4.80</td>\n",
       "      <td>2.0</td>\n",
       "      <td>1.0</td>\n",
       "      <td>0.00</td>\n",
       "    </tr>\n",
       "    <tr>\n",
       "      <th>1</th>\n",
       "      <td>1</td>\n",
       "      <td>2022-01-01 00:20:55</td>\n",
       "      <td>2022-01-01 00:29:38</td>\n",
       "      <td>N</td>\n",
       "      <td>1.0</td>\n",
       "      <td>116</td>\n",
       "      <td>41</td>\n",
       "      <td>1.0</td>\n",
       "      <td>2.10</td>\n",
       "      <td>9.5</td>\n",
       "      <td>0.50</td>\n",
       "      <td>0.5</td>\n",
       "      <td>0.00</td>\n",
       "      <td>0.0</td>\n",
       "      <td>None</td>\n",
       "      <td>0.3</td>\n",
       "      <td>10.80</td>\n",
       "      <td>2.0</td>\n",
       "      <td>1.0</td>\n",
       "      <td>0.00</td>\n",
       "    </tr>\n",
       "    <tr>\n",
       "      <th>2</th>\n",
       "      <td>1</td>\n",
       "      <td>2022-01-01 00:57:02</td>\n",
       "      <td>2022-01-01 01:13:14</td>\n",
       "      <td>N</td>\n",
       "      <td>1.0</td>\n",
       "      <td>41</td>\n",
       "      <td>140</td>\n",
       "      <td>1.0</td>\n",
       "      <td>3.70</td>\n",
       "      <td>14.5</td>\n",
       "      <td>3.25</td>\n",
       "      <td>0.5</td>\n",
       "      <td>4.60</td>\n",
       "      <td>0.0</td>\n",
       "      <td>None</td>\n",
       "      <td>0.3</td>\n",
       "      <td>23.15</td>\n",
       "      <td>1.0</td>\n",
       "      <td>1.0</td>\n",
       "      <td>2.75</td>\n",
       "    </tr>\n",
       "    <tr>\n",
       "      <th>3</th>\n",
       "      <td>2</td>\n",
       "      <td>2022-01-01 00:07:42</td>\n",
       "      <td>2022-01-01 00:15:57</td>\n",
       "      <td>N</td>\n",
       "      <td>1.0</td>\n",
       "      <td>181</td>\n",
       "      <td>181</td>\n",
       "      <td>1.0</td>\n",
       "      <td>1.69</td>\n",
       "      <td>8.0</td>\n",
       "      <td>0.50</td>\n",
       "      <td>0.5</td>\n",
       "      <td>0.00</td>\n",
       "      <td>0.0</td>\n",
       "      <td>None</td>\n",
       "      <td>0.3</td>\n",
       "      <td>9.30</td>\n",
       "      <td>2.0</td>\n",
       "      <td>1.0</td>\n",
       "      <td>0.00</td>\n",
       "    </tr>\n",
       "    <tr>\n",
       "      <th>4</th>\n",
       "      <td>2</td>\n",
       "      <td>2022-01-01 00:07:50</td>\n",
       "      <td>2022-01-01 00:28:52</td>\n",
       "      <td>N</td>\n",
       "      <td>1.0</td>\n",
       "      <td>33</td>\n",
       "      <td>170</td>\n",
       "      <td>1.0</td>\n",
       "      <td>6.26</td>\n",
       "      <td>22.0</td>\n",
       "      <td>0.50</td>\n",
       "      <td>0.5</td>\n",
       "      <td>5.21</td>\n",
       "      <td>0.0</td>\n",
       "      <td>None</td>\n",
       "      <td>0.3</td>\n",
       "      <td>31.26</td>\n",
       "      <td>1.0</td>\n",
       "      <td>1.0</td>\n",
       "      <td>2.75</td>\n",
       "    </tr>\n",
       "  </tbody>\n",
       "</table>\n",
       "</div>"
      ],
      "text/plain": [
       "   VendorID lpep_pickup_datetime lpep_dropoff_datetime store_and_fwd_flag  \\\n",
       "0         2  2022-01-01 00:14:21   2022-01-01 00:15:33                  N   \n",
       "1         1  2022-01-01 00:20:55   2022-01-01 00:29:38                  N   \n",
       "2         1  2022-01-01 00:57:02   2022-01-01 01:13:14                  N   \n",
       "3         2  2022-01-01 00:07:42   2022-01-01 00:15:57                  N   \n",
       "4         2  2022-01-01 00:07:50   2022-01-01 00:28:52                  N   \n",
       "\n",
       "   RatecodeID  PULocationID  DOLocationID  passenger_count  trip_distance  \\\n",
       "0         1.0            42            42              1.0           0.44   \n",
       "1         1.0           116            41              1.0           2.10   \n",
       "2         1.0            41           140              1.0           3.70   \n",
       "3         1.0           181           181              1.0           1.69   \n",
       "4         1.0            33           170              1.0           6.26   \n",
       "\n",
       "   fare_amount  extra  mta_tax  tip_amount  tolls_amount ehail_fee  \\\n",
       "0          3.5   0.50      0.5        0.00           0.0      None   \n",
       "1          9.5   0.50      0.5        0.00           0.0      None   \n",
       "2         14.5   3.25      0.5        4.60           0.0      None   \n",
       "3          8.0   0.50      0.5        0.00           0.0      None   \n",
       "4         22.0   0.50      0.5        5.21           0.0      None   \n",
       "\n",
       "   improvement_surcharge  total_amount  payment_type  trip_type  \\\n",
       "0                    0.3          4.80           2.0        1.0   \n",
       "1                    0.3         10.80           2.0        1.0   \n",
       "2                    0.3         23.15           1.0        1.0   \n",
       "3                    0.3          9.30           2.0        1.0   \n",
       "4                    0.3         31.26           1.0        1.0   \n",
       "\n",
       "   congestion_surcharge  \n",
       "0                  0.00  \n",
       "1                  0.00  \n",
       "2                  2.75  \n",
       "3                  0.00  \n",
       "4                  2.75  "
      ]
     },
     "execution_count": 6,
     "metadata": {},
     "output_type": "execute_result"
    }
   ],
   "source": [
    "df_01 = pd.read_parquet('data/green_tripdata_2022-01.parquet')\n",
    "\n",
    "df_01.head()"
   ]
  },
  {
   "cell_type": "code",
   "execution_count": 7,
   "id": "fc18d68c",
   "metadata": {},
   "outputs": [],
   "source": [
    "dataset_source = \"https://d37ci6vzurychx.cloudfront.net/trip-data/green_tripdata_2022-01.parquet\"\n",
    "dataset = mlflow.data.from_pandas(df=df_01, source=dataset_source)\n"
   ]
  },
  {
   "cell_type": "code",
   "execution_count": 8,
   "id": "1c481c65",
   "metadata": {},
   "outputs": [],
   "source": [
    "def transform_nyc_green(df):\n",
    "    \n",
    "    convert_dtypes = {\n",
    "        'VendorID': 'category',\n",
    "        'PULocationID': 'string',\n",
    "        'DOLocationID': 'string',\n",
    "        'RatecodeID': 'category',\n",
    "        'passenger_count': 'Int64',\n",
    "        'store_and_fwd_flag': 'category',\n",
    "        'trip_type': 'category',\n",
    "        'payment_type': 'category'\n",
    "    }\n",
    "\n",
    "    return (\n",
    "        df.astype(convert_dtypes)\n",
    "        .assign(\n",
    "            trip_duration=(df['lpep_dropoff_datetime'] - df['lpep_pickup_datetime']).dt.total_seconds() / 60,\n",
    "        )\n",
    "        .query(\"total_amount >= 3.300000 and trip_distance <= 15.561200\") # removing outliers\n",
    "        .query(\"trip_duration >= 2.350000 and trip_duration <= 68.453000\") # removing outliers\n",
    "        .query(\"trip_type == 1 and RatecodeID == 1 and VendorID == 2\") # keeping the data simple\n",
    "        .reset_index()\n",
    "        .drop(['ehail_fee'], axis=1) # the column has only NULL values\n",
    "        .drop(['index', 'trip_type', 'RatecodeID', 'VendorID', 'lpep_pickup_datetime', 'lpep_dropoff_datetime', 'PULocationID', \n",
    "               'store_and_fwd_flag', 'passenger_count', 'fare_amount', 'extra', 'mta_tax', 'tip_amount', 'DOLocationID', \n",
    "               'tolls_amount', 'improvement_surcharge', 'payment_type', 'congestion_surcharge'], axis=1)\n",
    "    )\n",
    "\n"
   ]
  },
  {
   "cell_type": "code",
   "execution_count": 9,
   "id": "689a6e89",
   "metadata": {},
   "outputs": [
    {
     "data": {
      "text/html": [
       "<div>\n",
       "<style scoped>\n",
       "    .dataframe tbody tr th:only-of-type {\n",
       "        vertical-align: middle;\n",
       "    }\n",
       "\n",
       "    .dataframe tbody tr th {\n",
       "        vertical-align: top;\n",
       "    }\n",
       "\n",
       "    .dataframe thead th {\n",
       "        text-align: right;\n",
       "    }\n",
       "</style>\n",
       "<table border=\"1\" class=\"dataframe\">\n",
       "  <thead>\n",
       "    <tr style=\"text-align: right;\">\n",
       "      <th></th>\n",
       "      <th>trip_distance</th>\n",
       "      <th>total_amount</th>\n",
       "      <th>trip_duration</th>\n",
       "    </tr>\n",
       "  </thead>\n",
       "  <tbody>\n",
       "    <tr>\n",
       "      <th>0</th>\n",
       "      <td>1.69</td>\n",
       "      <td>9.30</td>\n",
       "      <td>8.250000</td>\n",
       "    </tr>\n",
       "    <tr>\n",
       "      <th>1</th>\n",
       "      <td>6.26</td>\n",
       "      <td>31.26</td>\n",
       "      <td>21.033333</td>\n",
       "    </tr>\n",
       "    <tr>\n",
       "      <th>2</th>\n",
       "      <td>6.47</td>\n",
       "      <td>23.80</td>\n",
       "      <td>20.200000</td>\n",
       "    </tr>\n",
       "    <tr>\n",
       "      <th>3</th>\n",
       "      <td>1.15</td>\n",
       "      <td>7.30</td>\n",
       "      <td>6.333333</td>\n",
       "    </tr>\n",
       "    <tr>\n",
       "      <th>4</th>\n",
       "      <td>1.30</td>\n",
       "      <td>7.30</td>\n",
       "      <td>6.000000</td>\n",
       "    </tr>\n",
       "  </tbody>\n",
       "</table>\n",
       "</div>"
      ],
      "text/plain": [
       "   trip_distance  total_amount  trip_duration\n",
       "0           1.69          9.30       8.250000\n",
       "1           6.26         31.26      21.033333\n",
       "2           6.47         23.80      20.200000\n",
       "3           1.15          7.30       6.333333\n",
       "4           1.30          7.30       6.000000"
      ]
     },
     "execution_count": 9,
     "metadata": {},
     "output_type": "execute_result"
    }
   ],
   "source": [
    "df_01 = transform_nyc_green(df_01)\n",
    "df_01.head()"
   ]
  },
  {
   "cell_type": "markdown",
   "id": "aa80a550",
   "metadata": {},
   "source": [
    "# Modeling"
   ]
  },
  {
   "cell_type": "markdown",
   "id": "0308370b",
   "metadata": {},
   "source": [
    "Let's fit a basic model with just the 2 numerical columns, first."
   ]
  },
  {
   "cell_type": "code",
   "execution_count": 10,
   "id": "e313d836",
   "metadata": {},
   "outputs": [],
   "source": [
    "from sklearn.linear_model import LinearRegression, Lasso\n",
    "from sklearn.ensemble import RandomForestRegressor\n",
    "\n",
    "from sklearn.metrics import mean_squared_error\n",
    "\n",
    "from sklearn.model_selection import train_test_split\n",
    "\n",
    "from sklearn.preprocessing import StandardScaler"
   ]
  },
  {
   "cell_type": "code",
   "execution_count": 11,
   "id": "17c6bb2c",
   "metadata": {},
   "outputs": [],
   "source": [
    "features = ['trip_distance', 'total_amount']\n",
    "target = ['trip_duration']\n"
   ]
  },
  {
   "cell_type": "code",
   "execution_count": 12,
   "id": "8238c6ce",
   "metadata": {},
   "outputs": [],
   "source": [
    "X = df_01[features]\n",
    "y = df_01[target]\n"
   ]
  },
  {
   "cell_type": "code",
   "execution_count": 13,
   "id": "7105390f",
   "metadata": {},
   "outputs": [],
   "source": [
    "X_train, X_test, y_train, y_test = train_test_split(X, y, test_size=0.25,\n",
    "                                                   random_state=42)\n"
   ]
  },
  {
   "cell_type": "code",
   "execution_count": 19,
   "id": "1d7d6b34",
   "metadata": {},
   "outputs": [],
   "source": [
    "with mlflow.start_run(run_name=\"lin-reg\"):\n",
    "    \n",
    "    mlflow.set_tag(\"developer\", \"dvshnkr\") # set tag to the current run\n",
    "\n",
    "    mlflow.log_input(dataset) # log the input dataset used for the current run\n",
    "    \n",
    "    lr = LinearRegression()\n",
    "    lr.fit(X_train, y_train)\n",
    "\n",
    "    y_pred = lr.predict(X_test)\n",
    "\n",
    "    rmse = mean_squared_error(y_test, y_pred, squared=False)\n",
    "    \n",
    "    mlflow.log_metric(\"RMSE\", rmse) # log metric associated with current run\n",
    "\n"
   ]
  },
  {
   "cell_type": "code",
   "execution_count": 20,
   "id": "d9e5b827",
   "metadata": {},
   "outputs": [
    {
     "data": {
      "text/plain": [
       "<matplotlib.legend.Legend at 0x26c4813a020>"
      ]
     },
     "execution_count": 20,
     "metadata": {},
     "output_type": "execute_result"
    },
    {
     "data": {
      "image/png": "[encoded data removed]",
      "text/plain": [
       "<Figure size 640x480 with 1 Axes>"
      ]
     },
     "metadata": {},
     "output_type": "display_data"
    }
   ],
   "source": [
    "sns.histplot(y_pred, label='prediction', kde=True, stat=\"density\", palette='viridis')\n",
    "sns.histplot(y_test, label='true', kde=True, stat=\"density\")\n",
    "\n",
    "plt.legend()"
   ]
  },
  {
   "cell_type": "markdown",
   "id": "8d4c595a",
   "metadata": {},
   "source": [
    "Looks like we're able to capture some information using this simlpe model. \n",
    "\n",
    "Trying another linear model (Lasso) to see if there is any improvement..."
   ]
  },
  {
   "cell_type": "markdown",
   "id": "7e6f99b3",
   "metadata": {},
   "source": [
    "## Lasso"
   ]
  },
  {
   "cell_type": "code",
   "execution_count": 24,
   "id": "c624b628",
   "metadata": {},
   "outputs": [],
   "source": [
    "with mlflow.start_run(run_name=\"lasso\"):\n",
    "    \n",
    "    mlflow.set_tag(\"developer\", \"dvshnkr\") # set tag to the current run\n",
    "\n",
    "    mlflow.log_input(dataset) # log the input dataset used for the current run\n",
    "    \n",
    "    alpha = 1\n",
    "    mlflow.log_param(\"alpha\", alpha)\n",
    "    \n",
    "    lasso = Lasso(alpha=alpha)\n",
    "    lasso.fit(X_train, y_train)\n",
    "\n",
    "    y_pred = lasso.predict(X_test)\n",
    "\n",
    "    rmse = mean_squared_error(y_test, y_pred, squared=False)\n",
    "    \n",
    "    mlflow.log_metric(\"RMSE\", rmse) # log metric associated with current run\n",
    "\n"
   ]
  },
  {
   "cell_type": "code",
   "execution_count": 25,
   "id": "bf8c8f81",
   "metadata": {},
   "outputs": [
    {
     "data": {
      "text/plain": [
       "array([-0.        ,  0.84270536])"
      ]
     },
     "execution_count": 25,
     "metadata": {},
     "output_type": "execute_result"
    }
   ],
   "source": [
    "lasso.coef_"
   ]
  },
  {
   "cell_type": "code",
   "execution_count": 26,
   "id": "4cde0a04",
   "metadata": {},
   "outputs": [
    {
     "data": {
      "text/html": [
       "<div>\n",
       "<style scoped>\n",
       "    .dataframe tbody tr th:only-of-type {\n",
       "        vertical-align: middle;\n",
       "    }\n",
       "\n",
       "    .dataframe tbody tr th {\n",
       "        vertical-align: top;\n",
       "    }\n",
       "\n",
       "    .dataframe thead th {\n",
       "        text-align: right;\n",
       "    }\n",
       "</style>\n",
       "<table border=\"1\" class=\"dataframe\">\n",
       "  <thead>\n",
       "    <tr style=\"text-align: right;\">\n",
       "      <th></th>\n",
       "      <th>total_amount</th>\n",
       "    </tr>\n",
       "  </thead>\n",
       "  <tbody>\n",
       "    <tr>\n",
       "      <th>15137</th>\n",
       "      <td>35.85</td>\n",
       "    </tr>\n",
       "    <tr>\n",
       "      <th>5777</th>\n",
       "      <td>7.30</td>\n",
       "    </tr>\n",
       "    <tr>\n",
       "      <th>14156</th>\n",
       "      <td>55.26</td>\n",
       "    </tr>\n",
       "  </tbody>\n",
       "</table>\n",
       "</div>"
      ],
      "text/plain": [
       "       total_amount\n",
       "15137         35.85\n",
       "5777           7.30\n",
       "14156         55.26"
      ]
     },
     "execution_count": 26,
     "metadata": {},
     "output_type": "execute_result"
    }
   ],
   "source": [
    "X_train.iloc[:3, lasso.coef_ != 0]"
   ]
  },
  {
   "cell_type": "markdown",
   "id": "bdda7743",
   "metadata": {},
   "source": [
    "The coefficients seem to suggest that the `trip_distance` column is not contributing much here and can be removed; and yet the RMSE is almost as good as it was in the case of the simple LR model. This is probably a trade-off worth considering to make here if one of these models is going to be in production."
   ]
  },
  {
   "cell_type": "markdown",
   "id": "0e79efb4",
   "metadata": {},
   "source": [
    "## Scaling the variables\n",
    "\n",
    "Although the variables are not very different in scale, let's try scaling to see if it helps at all."
   ]
  },
  {
   "cell_type": "code",
   "execution_count": 23,
   "id": "42875270",
   "metadata": {},
   "outputs": [
    {
     "data": {
      "text/plain": [
       "4.522799576241804"
      ]
     },
     "execution_count": 23,
     "metadata": {},
     "output_type": "execute_result"
    }
   ],
   "source": [
    "scaler = StandardScaler()\n",
    "\n",
    "X_tr_scaled = scaler.fit_transform(X_train)\n",
    "X_te_scaled = scaler.transform(X_test)\n",
    "\n",
    "lr_ = LinearRegression()\n",
    "lr_.fit(X_tr_scaled, y_train)\n",
    "\n",
    "y_pred = lr_.predict(X_te_scaled)\n",
    "\n",
    "RMSE = mean_squared_error(y_test, y_pred, squared=False)\n",
    "\n",
    "RMSE"
   ]
  },
  {
   "cell_type": "markdown",
   "id": "eac708ad",
   "metadata": {},
   "source": [
    "Also, as explained in this [Stack Overflow answer](https://stackoverflow.com/a/70341695), **explained variance will ultimately remain the same** irrespective of scaling. Only the coefficients would be different in both cases. \n",
    "\n",
    "Scaling, however, [makes interpretation easier](https://www.quora.com/Do-I-need-to-do-feature-scaling-for-simple-linear-regression).  "
   ]
  },
  {
   "cell_type": "markdown",
   "id": "b891be1d",
   "metadata": {},
   "source": [
    "## Saving best model\n",
    "\n",
    "Since the best model was the OLS linear regression model, saving that..."
   ]
  },
  {
   "cell_type": "code",
   "execution_count": 24,
   "id": "d5e39a38",
   "metadata": {},
   "outputs": [],
   "source": [
    "import pickle"
   ]
  },
  {
   "cell_type": "code",
   "execution_count": 25,
   "id": "511e641d",
   "metadata": {},
   "outputs": [],
   "source": [
    "with open('../models/lin_reg.bin', 'wb') as f_out:\n",
    "    pickle.dump(lr, f_out)"
   ]
  },
  {
   "cell_type": "code",
   "execution_count": null,
   "id": "aa43a358",
   "metadata": {},
   "outputs": [],
   "source": []
  }
 ],
 "metadata": {
  "kernelspec": {
   "display_name": "Python 3 (ipykernel)",
   "language": "python",
   "name": "python3"
  },
  "language_info": {
   "codemirror_mode": {
    "name": "ipython",
    "version": 3
   },
   "file_extension": ".py",
   "mimetype": "text/x-python",
   "name": "python",
   "nbconvert_exporter": "python",
   "pygments_lexer": "ipython3",
   "version": "3.10.11"
  }
 },
 "nbformat": 4,
 "nbformat_minor": 5
}
