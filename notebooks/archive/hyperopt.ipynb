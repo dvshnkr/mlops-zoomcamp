{
 "cells": [
  {
   "cell_type": "code",
   "execution_count": 1,
   "id": "fc7ace0f",
   "metadata": {},
   "outputs": [],
   "source": [
    "import numpy as np\n",
    "import pandas as pd\n",
    "\n",
    "import mlflow\n",
    "from hyperopt import fmin, hp, tpe, STATUS_OK, Trials"
   ]
  },
  {
   "cell_type": "code",
   "execution_count": 2,
   "id": "b1d54fc9",
   "metadata": {},
   "outputs": [
    {
     "name": "stdout",
     "output_type": "stream",
     "text": [
      "C:\\Users\\devsn\\Desktop\\courses\\MLOps Zoomcamp\n"
     ]
    }
   ],
   "source": [
    "%cd ../.."
   ]
  },
  {
   "cell_type": "code",
   "execution_count": 3,
   "id": "0997848c",
   "metadata": {},
   "outputs": [
    {
     "name": "stderr",
     "output_type": "stream",
     "text": [
      "2023/07/15 13:07:54 INFO mlflow.store.db.utils: Creating initial MLflow database tables...\n",
      "2023/07/15 13:07:54 INFO mlflow.store.db.utils: Updating database tables\n",
      "INFO  [alembic.runtime.migration] Context impl SQLiteImpl.\n",
      "INFO  [alembic.runtime.migration] Will assume non-transactional DDL.\n",
      "INFO  [alembic.runtime.migration] Context impl SQLiteImpl.\n",
      "INFO  [alembic.runtime.migration] Will assume non-transactional DDL.\n",
      "2023/07/15 13:07:54 INFO mlflow.tracking.fluent: Experiment with name 'hyperopt-intro' does not exist. Creating a new experiment.\n"
     ]
    },
    {
     "data": {
      "text/plain": [
       "<Experiment: artifact_location='file:///C:/Users/devsn/Desktop/courses/MLOps Zoomcamp/mlruns/2', creation_time=1689406674739, experiment_id='2', last_update_time=1689406674739, lifecycle_stage='active', name='hyperopt-intro', tags={}>"
      ]
     },
     "execution_count": 3,
     "metadata": {},
     "output_type": "execute_result"
    }
   ],
   "source": [
    "mlflow.set_tracking_uri(\"sqlite:///mlflow.db\")\n",
    "mlflow.set_experiment(\"hyperopt-intro\")\n"
   ]
  },
  {
   "cell_type": "code",
   "execution_count": 57,
   "id": "117f33e1",
   "metadata": {},
   "outputs": [
    {
     "name": "stdout",
     "output_type": "stream",
     "text": [
      "100%|██████████████████████████████████████████████| 500/500 [00:00<00:00, 561.70trial/s, best loss: 0.750080922710542]\n",
      "Optimal value of `x` is: -0.51\n"
     ]
    }
   ],
   "source": [
    "def objective_fn(params: dict) -> dict:\n",
    "    \"\"\"\n",
    "    Objective / loss function to be minimised.\n",
    "    Takes a number `x` as input.\n",
    "    Returns a dictionary with a quadratic fn as the loss, and STATUS_OK as status.\n",
    "    \"\"\"\n",
    "    \n",
    "    loss = params['x']**2 + params['x'] + 1\n",
    "    return {'loss': loss, 'status': STATUS_OK}\n",
    "\n",
    "\n",
    "space = {\n",
    "    'x': hp.uniform('x', -10.5, 10.5)\n",
    "}\n",
    "\n",
    "\n",
    "trials = Trials()\n",
    "\n",
    "\n",
    "best = fmin(\n",
    "    fn=objective_fn,\n",
    "    space=space,\n",
    "    algo=tpe.suggest,\n",
    "    max_evals=500,\n",
    "    trials=trials\n",
    ")\n",
    "\n",
    "print(f\"Optimal value of `x` is: {round(best['x'], 2)}\")\n"
   ]
  },
  {
   "cell_type": "code",
   "execution_count": null,
   "id": "6b4db8f6",
   "metadata": {},
   "outputs": [],
   "source": []
  }
 ],
 "metadata": {
  "kernelspec": {
   "display_name": "Python 3 (ipykernel)",
   "language": "python",
   "name": "python3"
  },
  "language_info": {
   "codemirror_mode": {
    "name": "ipython",
    "version": 3
   },
   "file_extension": ".py",
   "mimetype": "text/x-python",
   "name": "python",
   "nbconvert_exporter": "python",
   "pygments_lexer": "ipython3",
   "version": "3.10.11"
  }
 },
 "nbformat": 4,
 "nbformat_minor": 5
}
