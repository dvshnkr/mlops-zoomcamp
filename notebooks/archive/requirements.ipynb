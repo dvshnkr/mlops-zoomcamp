{
 "cells": [
  {
   "cell_type": "code",
   "execution_count": 1,
   "id": "da42e0e4",
   "metadata": {},
   "outputs": [
    {
     "name": "stdout",
     "output_type": "stream",
     "text": [
      "C:\\Users\\devsn\\Desktop\\courses\\MLOps Zoomcamp\n"
     ]
    }
   ],
   "source": [
    "%cd ../.."
   ]
  },
  {
   "cell_type": "code",
   "execution_count": 7,
   "id": "2d90a420",
   "metadata": {},
   "outputs": [],
   "source": [
    "content = []\n",
    "\n",
    "with open(\"requirements.txt\", \"r\") as f:\n",
    "    for line in f:\n",
    "        i = line.find('==', 1)\n",
    "        if i>=0:\n",
    "            line = line.replace('==', '>=')\n",
    "        content.append(line)\n"
   ]
  },
  {
   "cell_type": "code",
   "execution_count": 8,
   "id": "c35050f6",
   "metadata": {},
   "outputs": [
    {
     "data": {
      "text/plain": [
       "['aiohttp>=3.8.4\\n',\n",
       " 'aiosignal>=1.3.1\\n',\n",
       " 'aiosqlite>=0.19.0\\n',\n",
       " 'alembic>=1.11.1\\n',\n",
       " 'anyio>=3.7.0\\n']"
      ]
     },
     "execution_count": 8,
     "metadata": {},
     "output_type": "execute_result"
    }
   ],
   "source": [
    "content[:5]"
   ]
  },
  {
   "cell_type": "code",
   "execution_count": 9,
   "id": "546a2871",
   "metadata": {},
   "outputs": [],
   "source": [
    "j = 0\n",
    "\n",
    "with open(\"requirements_mod.txt\", \"w\") as f:\n",
    "    while j < len(content):\n",
    "        f.write(content[j])\n",
    "        j += 1\n"
   ]
  },
  {
   "cell_type": "code",
   "execution_count": null,
   "id": "b8262f93",
   "metadata": {},
   "outputs": [],
   "source": []
  }
 ],
 "metadata": {
  "kernelspec": {
   "display_name": "Python 3 (ipykernel)",
   "language": "python",
   "name": "python3"
  },
  "language_info": {
   "codemirror_mode": {
    "name": "ipython",
    "version": 3
   },
   "file_extension": ".py",
   "mimetype": "text/x-python",
   "name": "python",
   "nbconvert_exporter": "python",
   "pygments_lexer": "ipython3",
   "version": "3.10.11"
  }
 },
 "nbformat": 4,
 "nbformat_minor": 5
}
