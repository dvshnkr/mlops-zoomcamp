{
 "cells": [
  {
   "cell_type": "code",
   "execution_count": 1,
   "id": "13aa62f4",
   "metadata": {},
   "outputs": [],
   "source": [
    "from prefect import task, flow"
   ]
  },
  {
   "cell_type": "code",
   "execution_count": 2,
   "id": "b8379d9c",
   "metadata": {},
   "outputs": [],
   "source": [
    "@flow\n",
    "def question_answer() -> str:\n",
    "    \"\"\"\n",
    "    Returns a simple answer for any question.\n",
    "    \"\"\"\n",
    "#     question = input(\"Ask a question...\")\n",
    "    return \"The answer is 42.\"\n"
   ]
  },
  {
   "cell_type": "code",
   "execution_count": 3,
   "id": "2f07e283",
   "metadata": {},
   "outputs": [
    {
     "data": {
      "text/html": [
       "<pre style=\"white-space:pre;overflow-x:auto;line-height:normal;font-family:Menlo,'DejaVu Sans Mono',consolas,'Courier New',monospace\">01:58:44.388 | <span style=\"color: #008080; text-decoration-color: #008080\">INFO</span>    | prefect.engine - Created flow run<span style=\"color: #800080; text-decoration-color: #800080\"> 'colorful-robin'</span> for flow<span style=\"color: #800080; text-decoration-color: #800080; font-weight: bold\"> 'question-answer'</span>\n",
       "</pre>\n"
      ],
      "text/plain": [
       "01:58:44.388 | \u001b[36mINFO\u001b[0m    | prefect.engine - Created flow run\u001b[35m 'colorful-robin'\u001b[0m for flow\u001b[1;35m 'question-answer'\u001b[0m\n"
      ]
     },
     "metadata": {},
     "output_type": "display_data"
    },
    {
     "data": {
      "text/html": [
       "<pre style=\"white-space:pre;overflow-x:auto;line-height:normal;font-family:Menlo,'DejaVu Sans Mono',consolas,'Courier New',monospace\">01:58:44.399 | <span style=\"color: #008080; text-decoration-color: #008080\">INFO</span>    | Flow run<span style=\"color: #800080; text-decoration-color: #800080\"> 'colorful-robin'</span> - View at <span style=\"color: #0000ff; text-decoration-color: #0000ff\">http://127.0.0.1:4200/flow-runs/flow-run/7e75790d-7e8f-447c-87fa-a1804ac2e31d</span>\n",
       "</pre>\n"
      ],
      "text/plain": [
       "01:58:44.399 | \u001b[36mINFO\u001b[0m    | Flow run\u001b[35m 'colorful-robin'\u001b[0m - View at \u001b[94mhttp://127.0.0.1:4200/flow-runs/flow-run/7e75790d-7e8f-447c-87fa-a1804ac2e31d\u001b[0m\n"
      ]
     },
     "metadata": {},
     "output_type": "display_data"
    },
    {
     "data": {
      "text/html": [
       "<pre style=\"white-space:pre;overflow-x:auto;line-height:normal;font-family:Menlo,'DejaVu Sans Mono',consolas,'Courier New',monospace\">01:58:44.791 | <span style=\"color: #008080; text-decoration-color: #008080\">INFO</span>    | Flow run<span style=\"color: #800080; text-decoration-color: #800080\"> 'colorful-robin'</span> - Finished in state <span style=\"color: #008000; text-decoration-color: #008000\">Completed</span>()\n",
       "</pre>\n"
      ],
      "text/plain": [
       "01:58:44.791 | \u001b[36mINFO\u001b[0m    | Flow run\u001b[35m 'colorful-robin'\u001b[0m - Finished in state \u001b[32mCompleted\u001b[0m()\n"
      ]
     },
     "metadata": {},
     "output_type": "display_data"
    },
    {
     "name": "stdout",
     "output_type": "stream",
     "text": [
      "The answer is 42.\n"
     ]
    }
   ],
   "source": [
    "print(question_answer())"
   ]
  }
 ],
 "metadata": {
  "kernelspec": {
   "display_name": "Python 3 (ipykernel)",
   "language": "python",
   "name": "python3"
  },
  "language_info": {
   "codemirror_mode": {
    "name": "ipython",
    "version": 3
   },
   "file_extension": ".py",
   "mimetype": "text/x-python",
   "name": "python",
   "nbconvert_exporter": "python",
   "pygments_lexer": "ipython3",
   "version": "3.10.11"
  }
 },
 "nbformat": 4,
 "nbformat_minor": 5
}
