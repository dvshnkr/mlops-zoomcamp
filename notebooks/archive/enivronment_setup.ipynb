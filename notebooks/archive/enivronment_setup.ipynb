{
 "cells": [
  {
   "cell_type": "code",
   "execution_count": 1,
   "id": "36b846db",
   "metadata": {},
   "outputs": [
    {
     "name": "stdout",
     "output_type": "stream",
     "text": [
      "C:\\Users\\devsn\\Desktop\\courses\\MLOps Zoomcamp\\notebooks\n"
     ]
    }
   ],
   "source": [
    "!cd"
   ]
  },
  {
   "cell_type": "code",
   "execution_count": 2,
   "id": "b0ec4bae",
   "metadata": {},
   "outputs": [
    {
     "name": "stdout",
     "output_type": "stream",
     "text": [
      "Python 3.10.11\n"
     ]
    }
   ],
   "source": [
    "!python -V"
   ]
  },
  {
   "cell_type": "code",
   "execution_count": 3,
   "id": "c80386f7",
   "metadata": {},
   "outputs": [
    {
     "name": "stdout",
     "output_type": "stream",
     "text": [
      "Docker version 20.10.20, build 9fdeb9c\n"
     ]
    }
   ],
   "source": [
    "!docker --version"
   ]
  },
  {
   "cell_type": "code",
   "execution_count": 4,
   "id": "053cabf7",
   "metadata": {},
   "outputs": [
    {
     "name": "stdout",
     "output_type": "stream",
     "text": [
      "pip 23.1.2 from C:\\Users\\devsn\\Desktop\\courses\\MLOps Zoomcamp\\.venv\\lib\\site-packages\\pip (python 3.10)\n",
      "\n"
     ]
    }
   ],
   "source": [
    "!pip --version"
   ]
  },
  {
   "cell_type": "code",
   "execution_count": 5,
   "id": "ecc7f80a",
   "metadata": {},
   "outputs": [
    {
     "name": "stdout",
     "output_type": "stream",
     "text": [
      "alembic==1.11.1\n",
      "anyio==3.7.0\n",
      "argon2-cffi==21.3.0\n",
      "argon2-cffi-bindings==21.2.0\n",
      "arrow==1.2.3\n",
      "asttokens==2.2.1\n",
      "attrs==23.1.0\n",
      "backcall==0.2.0\n",
      "beautifulsoup4==4.12.2\n",
      "bleach==6.0.0\n",
      "blinker==1.6.2\n",
      "certifi==2023.5.7\n",
      "cffi==1.15.1\n",
      "charset-normalizer==3.1.0\n",
      "click==8.1.3\n",
      "cloudpickle==2.2.1\n",
      "colorama==0.4.6\n",
      "comm==0.1.3\n",
      "contourpy==1.1.0\n",
      "cycler==0.11.0\n",
      "databricks-cli==0.17.7\n",
      "debugpy==1.6.7\n",
      "decorator==5.1.1\n",
      "defusedxml==0.7.1\n",
      "docker==6.1.3\n",
      "entrypoints==0.4\n",
      "exceptiongroup==1.1.2\n",
      "executing==1.2.0\n",
      "fastjsonschema==2.17.1\n",
      "Flask==2.3.2\n",
      "fonttools==4.40.0\n",
      "fqdn==1.5.1\n",
      "gitdb==4.0.10\n",
      "GitPython==3.1.31\n",
      "greenlet==2.0.2\n",
      "idna==3.4\n",
      "importlib-metadata==6.7.0\n",
      "ipykernel==6.24.0\n",
      "ipython==8.14.0\n",
      "ipython-genutils==0.2.0\n",
      "ipywidgets==8.0.7\n",
      "isoduration==20.11.0\n",
      "itsdangerous==2.1.2\n",
      "jedi==0.18.2\n",
      "Jinja2==3.1.2\n",
      "joblib==1.3.1\n",
      "jsonpointer==2.4\n",
      "jsonschema==4.17.3\n",
      "jupyter==1.0.0\n",
      "jupyter-console==6.6.3\n",
      "jupyter-events==0.6.3\n",
      "jupyter_client==8.3.0\n",
      "jupyter_core==5.3.1\n",
      "jupyter_server==2.7.0\n",
      "jupyter_server_terminals==0.4.4\n",
      "jupyterlab-pygments==0.2.2\n",
      "jupyterlab-widgets==3.0.8\n",
      "kiwisolver==1.4.4\n",
      "Mako==1.2.4\n",
      "Markdown==3.4.3\n",
      "MarkupSafe==2.1.3\n",
      "matplotlib==3.7.1\n",
      "matplotlib-inline==0.1.6\n",
      "mistune==3.0.1\n",
      "mlflow==2.4.1\n",
      "nbclassic==1.0.0\n",
      "nbclient==0.8.0\n",
      "nbconvert==7.6.0\n",
      "nbformat==5.9.0\n",
      "nest-asyncio==1.5.6\n",
      "notebook==6.5.4\n",
      "notebook_shim==0.2.3\n",
      "numpy==1.25.0\n",
      "oauthlib==3.2.2\n",
      "overrides==7.3.1\n",
      "packaging==23.1\n",
      "pandas==2.0.3\n",
      "pandocfilters==1.5.0\n",
      "parso==0.8.3\n",
      "pickleshare==0.7.5\n",
      "Pillow==10.0.0\n",
      "platformdirs==3.8.0\n",
      "polars==0.18.5\n",
      "prometheus-client==0.17.0\n",
      "prompt-toolkit==3.0.39\n",
      "protobuf==4.23.3\n",
      "psutil==5.9.5\n",
      "pure-eval==0.2.2\n",
      "pyarrow==12.0.1\n",
      "pycparser==2.21\n",
      "Pygments==2.15.1\n",
      "PyJWT==2.7.0\n",
      "pyparsing==3.1.0\n",
      "pyrsistent==0.19.3\n",
      "python-dateutil==2.8.2\n",
      "python-json-logger==2.0.7\n",
      "pytz==2023.3\n",
      "pywin32==306\n",
      "pywinpty==2.0.10\n",
      "PyYAML==6.0\n",
      "pyzmq==25.1.0\n",
      "qtconsole==5.4.3\n",
      "QtPy==2.3.1\n",
      "querystring-parser==1.2.4\n",
      "requests==2.31.0\n",
      "rfc3339-validator==0.1.4\n",
      "rfc3986-validator==0.1.1\n",
      "scikit-learn==1.3.0\n",
      "scipy==1.11.1\n",
      "seaborn==0.12.2\n",
      "Send2Trash==1.8.2\n",
      "six==1.16.0\n",
      "smmap==5.0.0\n",
      "sniffio==1.3.0\n",
      "soupsieve==2.4.1\n",
      "SQLAlchemy==2.0.17\n",
      "sqlparse==0.4.4\n",
      "stack-data==0.6.2\n",
      "tabulate==0.9.0\n",
      "terminado==0.17.1\n",
      "threadpoolctl==3.1.0\n",
      "tinycss2==1.2.1\n",
      "tornado==6.3.2\n",
      "traitlets==5.9.0\n",
      "typing_extensions==4.7.1\n",
      "tzdata==2023.3\n",
      "uri-template==1.3.0\n",
      "urllib3==1.26.16\n",
      "waitress==2.1.2\n",
      "wcwidth==0.2.6\n",
      "webcolors==1.13\n",
      "webencodings==0.5.1\n",
      "websocket-client==1.6.1\n",
      "Werkzeug==2.3.6\n",
      "widgetsnbextension==4.0.8\n",
      "zipp==3.15.0\n"
     ]
    }
   ],
   "source": [
    "!pip freeze"
   ]
  },
  {
   "cell_type": "code",
   "execution_count": 8,
   "id": "d63bfb66",
   "metadata": {},
   "outputs": [
    {
     "data": {
      "text/plain": [
       "'C:\\\\Users\\\\devsn\\\\Desktop\\\\courses\\\\MLOps-Zoomcamp\\\\prefect.db'"
      ]
     },
     "execution_count": 8,
     "metadata": {},
     "output_type": "execute_result"
    }
   ],
   "source": [
    "import os\n",
    "\n",
    "path = os.path.dirname(os.path.realpath(\"./../../README.md\"))\n",
    "# \"\\\\\".join(path.split(\"\\\\\")[:-2])\n",
    "os.path.join(path, \"prefect.db\")"
   ]
  },
  {
   "cell_type": "code",
   "execution_count": null,
   "id": "ae5b9478",
   "metadata": {},
   "outputs": [],
   "source": []
  }
 ],
 "metadata": {
  "kernelspec": {
   "display_name": "Python 3 (ipykernel)",
   "language": "python",
   "name": "python3"
  },
  "language_info": {
   "codemirror_mode": {
    "name": "ipython",
    "version": 3
   },
   "file_extension": ".py",
   "mimetype": "text/x-python",
   "name": "python",
   "nbconvert_exporter": "python",
   "pygments_lexer": "ipython3",
   "version": "3.10.11"
  }
 },
 "nbformat": 4,
 "nbformat_minor": 5
}
